{
 "cells": [
  {
   "cell_type": "markdown",
   "metadata": {},
   "source": [
    "Apply TF-IDF to the Inaugural Corpus \n",
    "Our second assignment will have us write code to \n",
    "1. Define or augment a set of stopwords for this problem\n",
    "2. Construct a document-by-term matrix (documents will be rows, terms will be columns), along with a vocabulary while controlling for stopwords\n",
    "3. Write functions to comput TF-IDF and apply those to the document-by-term matrix\n",
    "4. Find the closest historic inaugural address to the 2017 address by President Trump\n",
    "5. Learn to use the PCA transformation and plot the inaugural address along the first two principal components"
   ]
  },
  {
   "cell_type": "code",
   "execution_count": 1,
   "metadata": {},
   "outputs": [],
   "source": [
    "# import library\n",
    "import re\n",
    "import math\n",
    "import pandas as pd\n",
    "import numpy as np\n",
    "\n",
    "import nltk\n",
    "from nltk.corpus import stopwords\n",
    "from nltk.corpus import inaugural\n",
    "from nltk import FreqDist"
   ]
  },
  {
   "cell_type": "code",
   "execution_count": 2,
   "metadata": {},
   "outputs": [],
   "source": [
    "# initialize stemmer and lemmatizer\n",
    "porter    = nltk.PorterStemmer()\n",
    "lancaster = nltk.LancasterStemmer()\n",
    "wnl       = nltk.WordNetLemmatizer()"
   ]
  },
  {
   "cell_type": "code",
   "execution_count": 3,
   "metadata": {},
   "outputs": [
    {
     "data": {
      "text/plain": [
       "['1789-Washington.txt',\n",
       " '1793-Washington.txt',\n",
       " '1797-Adams.txt',\n",
       " '1801-Jefferson.txt']"
      ]
     },
     "execution_count": 3,
     "metadata": {},
     "output_type": "execute_result"
    }
   ],
   "source": [
    "# display the first 4 items of the inaugural datasets\n",
    "inaugural.fileids()[:4]"
   ]
  },
  {
   "cell_type": "code",
   "execution_count": 4,
   "metadata": {},
   "outputs": [
    {
     "data": {
      "text/plain": [
       "['Fellow', '-', 'Citizens', 'of', 'the', 'Senate', ...]"
      ]
     },
     "execution_count": 4,
     "metadata": {},
     "output_type": "execute_result"
    }
   ],
   "source": [
    "# display the tokenized words from the first inaugural \n",
    "inaugural.words(inaugural.fileids()[0])"
   ]
  },
  {
   "cell_type": "code",
   "execution_count": 5,
   "metadata": {},
   "outputs": [],
   "source": [
    "# initial stop words\n",
    "stop_words = set(stopwords.words('english'))"
   ]
  },
  {
   "cell_type": "markdown",
   "metadata": {},
   "source": [
    "### 1. Stopwords\n",
    "\n",
    "**Update stopwords**\n",
    "\n",
    "Remove all punctuation and strange unicode characters, and anything else that might be extraneous"
   ]
  },
  {
   "cell_type": "code",
   "execution_count": 6,
   "metadata": {},
   "outputs": [],
   "source": [
    "# here is where you should update the stop words\n",
    "stop_words.update(['-', ',', '.', '!', '?', ' ', ':', ';', '/', '[', ']', \n",
    "                   '*', '\"', '(', ')', '#', '$', '%', '&', '~', '@', '<', '>',\n",
    "                  '{', '}', '^', '--', \"'\", '.\"', '14th', '\";', '\"?', '),', '...', \n",
    "                   '¡¦', '¡§', '¡¨¡', ',\"', '.)', '....', '\\x80\\x94', '¡', '.¡¨'])"
   ]
  },
  {
   "cell_type": "markdown",
   "metadata": {},
   "source": [
    "---\n",
    "### 2. Read each inaugural address into an Pandas DataFrame"
   ]
  },
  {
   "cell_type": "markdown",
   "metadata": {},
   "source": [
    "**2.1 Create a vocabulary as a set of all unique stemmed terms in the corpus**"
   ]
  },
  {
   "cell_type": "code",
   "execution_count": 7,
   "metadata": {},
   "outputs": [],
   "source": [
    "# define an empty set to store vocabs\n",
    "vocab = set()"
   ]
  },
  {
   "cell_type": "code",
   "execution_count": 8,
   "metadata": {},
   "outputs": [],
   "source": [
    "# your code for creating the vocab goes here\n",
    "temp_list = [wnl.lemmatize(porter.stem(w.lower())) for w in inaugural.words() if w.lower() not in stop_words]\n",
    "vocab = set(sorted(temp_list))"
   ]
  },
  {
   "cell_type": "code",
   "execution_count": 9,
   "metadata": {},
   "outputs": [
    {
     "data": {
      "text/plain": [
       "5399"
      ]
     },
     "execution_count": 9,
     "metadata": {},
     "output_type": "execute_result"
    }
   ],
   "source": [
    "len(vocab)"
   ]
  },
  {
   "cell_type": "markdown",
   "metadata": {},
   "source": [
    "**2.2 Use your vocabulary now to read each inaugural address into a dataframe**\n",
    "\n",
    "Each row of the dataframe should represent a document (one of the addresses). It may be handy at this time to also track the size (length) of each document, since you'll need this later when computing TF.\n",
    "\n",
    "You should ignore the README file. Hint: use `inaugural.fileids()`."
   ]
  },
  {
   "cell_type": "code",
   "execution_count": 10,
   "metadata": {},
   "outputs": [
    {
     "name": "stdout",
     "output_type": "stream",
     "text": [
      "      a     b     c     d\n",
      "0   2.0   3.0   4.0   NaN\n",
      "1  20.0  30.0  40.0  50.0\n"
     ]
    }
   ],
   "source": [
    "# Feel free to use your own approach but you can iteratively update a dataframe using dictionaries.\n",
    "# Here's an example\n",
    "df =pd.DataFrame()\n",
    "\n",
    "dict1 = {'a':2, 'b':3, 'c':4}\n",
    "dict2 = {'b':30, 'a':20, 'd':50, 'c':40}\n",
    "\n",
    "df = df.append(dict1, ignore_index=True)\n",
    "df = df.append(dict2, ignore_index=True)\n",
    "\n",
    "print(df)"
   ]
  },
  {
   "cell_type": "code",
   "execution_count": 11,
   "metadata": {},
   "outputs": [
    {
     "name": "stdout",
     "output_type": "stream",
     "text": [
      "(58, 5399)\n"
     ]
    }
   ],
   "source": [
    "# your code for creating the dataframe goes here.\n",
    "# the resulting dataframe should be called \"df\"\n",
    "#\n",
    "# Each row of the dataframe should represent a document (inaugural address)\n",
    "# Each column of the dataframe should be a term from the vocab\n",
    "\n",
    "# initiate a dictionary for tracking document size\n",
    "doc_length = {}\n",
    "# initiate an empty dataframe\n",
    "df = pd.DataFrame()\n",
    "# loop through all documents in corpus\n",
    "for fileid in inaugural.fileids():\n",
    "    # populate doc_length\n",
    "    doc_length[fileid] = len(inaugural.words(fileid))\n",
    "    # create a temporary dictionary for each document for tracking word frequency\n",
    "    temp_list = [wnl.lemmatize(porter.stem(w.lower())) for w in inaugural.words(fileid) \n",
    "                 if w.lower() not in stop_words]\n",
    "    temp_dict = dict(FreqDist(sorted(temp_list)))\n",
    "    # covert dictionary to series and add to dataframe\n",
    "    df = df.append(pd.Series(temp_dict, name = fileid))\n",
    "    pass\n",
    "# fill null value\n",
    "df.fillna(0, inplace = True)\n",
    "# check df size\n",
    "print(df.shape)"
   ]
  },
  {
   "cell_type": "markdown",
   "metadata": {},
   "source": [
    "---\n",
    "### 3. Compute TF-IDF for the document-term matrix ###"
   ]
  },
  {
   "cell_type": "markdown",
   "metadata": {},
   "source": [
    "**3.1. Write a function to compute term frequency (TF) for each document**\n",
    "\n",
    "Please write your own code here, and resist the urge to rely on google for your answer."
   ]
  },
  {
   "cell_type": "code",
   "execution_count": 12,
   "metadata": {},
   "outputs": [],
   "source": [
    "# compute term frequency\n",
    "# inputs: wordvec is a series that contains, for a given doc, \n",
    "#                 the word counts for each term in the vocab\n",
    "#         doclen  is the length of the document\n",
    "# returns: a series with new term-frequencies (raw counts divided by doc length)\n",
    "def computetf(wordvec,doclen):\n",
    "    return wordvec/doclen"
   ]
  },
  {
   "cell_type": "markdown",
   "metadata": {},
   "source": [
    "**3.2 Write a function to comput inverse document frequency**\n",
    "\n",
    "Please write your own code here and resiste the urge to rely on google for your answer."
   ]
  },
  {
   "cell_type": "code",
   "execution_count": 13,
   "metadata": {},
   "outputs": [],
   "source": [
    "import math # you may need this for the log function\n",
    "\n",
    "# input:   document-by-term (row-by-column) dataframe\n",
    "# returns: dictionary of key-value pairs. Keys are terms in the vocab, values are IDF.\n",
    "\n",
    "def computeidf(df):\n",
    "    idf_dict = {}\n",
    "    for vocab in df.columns.values:\n",
    "        ratio = df.shape[0] / (df[vocab] > 0).sum()\n",
    "        idf_dict[vocab] = math.log(ratio)\n",
    "        pass\n",
    "    return idf_dict"
   ]
  },
  {
   "cell_type": "markdown",
   "metadata": {},
   "source": [
    "**Create a new dataframe and populate it with the TF-IDF values for each document-term combination**\n",
    "\n",
    "The functions your write above should work with the below code snippet."
   ]
  },
  {
   "cell_type": "code",
   "execution_count": 14,
   "metadata": {},
   "outputs": [],
   "source": [
    "newdf = pd.DataFrame()\n",
    "\n",
    "idfdict = computeidf(df)\n",
    "\n",
    "cols = df.columns\n",
    "for index, row in df.iterrows():\n",
    "    newrow = computetf(row,doc_length[index])\n",
    "    for c in cols:\n",
    "        newrow[c] = newrow[c]*idfdict[c]\n",
    "    newdf = newdf.append(newrow)"
   ]
  },
  {
   "cell_type": "markdown",
   "metadata": {},
   "source": [
    "---\n",
    "### 4. Using TF-IDF values, find and rank order the 3 closest inaugural addresses to Donald Trump's 2017 address, measured by cosine similarity"
   ]
  },
  {
   "cell_type": "code",
   "execution_count": 15,
   "metadata": {},
   "outputs": [],
   "source": [
    "# President Trump's address is 57 (0-indexed)\n",
    "# newdf.iloc[57,:].head(100)"
   ]
  },
  {
   "cell_type": "markdown",
   "metadata": {},
   "source": [
    "**4.1 Create an array called dist that contains the cosine similarity distance between the 2017 inaugural address (called d1 below) and each of the inaugural addresses**"
   ]
  },
  {
   "cell_type": "code",
   "execution_count": 16,
   "metadata": {},
   "outputs": [],
   "source": [
    "import numpy as np\n",
    "\n",
    "d1 = newdf.iloc[57,:]\n",
    "norm_d1 = np.sqrt(np.sum(np.square(d1)))\n",
    "dist = []\n",
    "for index,row in newdf.iterrows():\n",
    "    # your code goes here\n",
    "    temp_norm = np.sqrt(np.sum(np.square(row)))\n",
    "    cos_sim = np.dot(d1, row) / (norm_d1 * temp_norm)\n",
    "    dist.append(cos_sim)\n"
   ]
  },
  {
   "cell_type": "code",
   "execution_count": 17,
   "metadata": {},
   "outputs": [
    {
     "data": {
      "text/plain": [
       "[0.028385851015777314,\n",
       " 0.0345546064891253,\n",
       " 0.05480366567025921,\n",
       " 0.04803021286999383,\n",
       " 0.05247969976729038,\n",
       " 0.029944498561771633,\n",
       " 0.03208027620229345,\n",
       " 0.05883140162065671,\n",
       " 0.051603876423959416,\n",
       " 0.051848871390321766,\n",
       " 0.03200839137736795,\n",
       " 0.03865103824903881,\n",
       " 0.059814011716078905,\n",
       " 0.07610944439922337,\n",
       " 0.07155426534451145,\n",
       " 0.055727702129309845,\n",
       " 0.06485577717401546,\n",
       " 0.06498183584967497,\n",
       " 0.0459755398274426,\n",
       " 0.035769805894818686,\n",
       " 0.05626692859038358,\n",
       " 0.04366333426642948,\n",
       " 0.044050102215994695,\n",
       " 0.07009131900137894,\n",
       " 0.06272011941900518,\n",
       " 0.07083657708889558,\n",
       " 0.051139690256612046,\n",
       " 0.0668931143944216,\n",
       " 0.05552005660876715,\n",
       " 0.056809887269136175,\n",
       " 0.06463770145510213,\n",
       " 0.08733100768489739,\n",
       " 0.06495303021799227,\n",
       " 0.09778841897254424,\n",
       " 0.09252905342560866,\n",
       " 0.08554751202461289,\n",
       " 0.07182304933131382,\n",
       " 0.09937564191160811,\n",
       " 0.09097355455798457,\n",
       " 0.07437084790237614,\n",
       " 0.06486141198864709,\n",
       " 0.10684892613545827,\n",
       " 0.11319633990771226,\n",
       " 0.10830843814191936,\n",
       " 0.08458868813467971,\n",
       " 0.20138000669982034,\n",
       " 0.13802434814348088,\n",
       " 0.10373958057840836,\n",
       " 0.16933103395109264,\n",
       " 0.14897366537068266,\n",
       " 0.17502160786350382,\n",
       " 0.21567265955442227,\n",
       " 0.20853752921125088,\n",
       " 0.148463814954879,\n",
       " 0.14896291349893095,\n",
       " 0.1970435337229075,\n",
       " 0.1777143266293835,\n",
       " 1.0000000000000004]"
      ]
     },
     "execution_count": 17,
     "metadata": {},
     "output_type": "execute_result"
    }
   ],
   "source": [
    "dist"
   ]
  },
  {
   "cell_type": "markdown",
   "metadata": {},
   "source": [
    "**4.2 Find the 3 closest associated inaugural address, when measured by cosign similarity. Which one is the closest?**"
   ]
  },
  {
   "cell_type": "code",
   "execution_count": 18,
   "metadata": {},
   "outputs": [
    {
     "data": {
      "text/plain": [
       "Index(['1969-Nixon.txt', '1997-Clinton.txt', '1993-Clinton.txt'], dtype='object')"
      ]
     },
     "execution_count": 18,
     "metadata": {},
     "output_type": "execute_result"
    }
   ],
   "source": [
    "indices = np.array(dist).argsort()[-4:-1]\n",
    "df.index[indices]"
   ]
  },
  {
   "cell_type": "markdown",
   "metadata": {},
   "source": [
    "**4.3 What is your explanation/understanding of why these documents are \"close\" to the 2017? Please explain."
   ]
  },
  {
   "cell_type": "markdown",
   "metadata": {},
   "source": [
    "Cosine similarity is often used in text classification to measure the textual content similarity of two documents. This is normally calculated based on word frequencies relative to the entire corpus, which can be meaninfully represented using TF-IDF.\n",
    "\n",
    "In this case, inaugural A is considered 'close' to inaugural B if the words used and frequencies of each word used are relatively similar than the ones between inaugural A and inaugural B. As illustrated in the code snippets below, the first dataframe dipicts the words that appeared more than 5 times in Trump's inaugural and also appeared at least once in the 3 closest associated inaugural address. We could see that these words such as 'america', 'great', 'people', 'nation' were also frequently used by the other 3 presidents.\n",
    "\n",
    "In contrast, the second dataframe shows the 3 furtherest asocaited inaugural address, where such pattern is pattern is not observed. "
   ]
  },
  {
   "cell_type": "code",
   "execution_count": 19,
   "metadata": {},
   "outputs": [
    {
     "data": {
      "text/html": [
       "<div>\n",
       "<style scoped>\n",
       "    .dataframe tbody tr th:only-of-type {\n",
       "        vertical-align: middle;\n",
       "    }\n",
       "\n",
       "    .dataframe tbody tr th {\n",
       "        vertical-align: top;\n",
       "    }\n",
       "\n",
       "    .dataframe thead th {\n",
       "        text-align: right;\n",
       "    }\n",
       "</style>\n",
       "<table border=\"1\" class=\"dataframe\">\n",
       "  <thead>\n",
       "    <tr style=\"text-align: right;\">\n",
       "      <th></th>\n",
       "      <th>american</th>\n",
       "      <th>great</th>\n",
       "      <th>nation</th>\n",
       "      <th>new</th>\n",
       "      <th>one</th>\n",
       "      <th>peopl</th>\n",
       "      <th>presid</th>\n",
       "      <th>world</th>\n",
       "      <th>america</th>\n",
       "      <th>make</th>\n",
       "      <th>god</th>\n",
       "      <th>across</th>\n",
       "      <th>today</th>\n",
       "    </tr>\n",
       "  </thead>\n",
       "  <tbody>\n",
       "    <tr>\n",
       "      <th>1969-Nixon.txt</th>\n",
       "      <td>4.0</td>\n",
       "      <td>7.0</td>\n",
       "      <td>9.0</td>\n",
       "      <td>8.0</td>\n",
       "      <td>7.0</td>\n",
       "      <td>15.0</td>\n",
       "      <td>3.0</td>\n",
       "      <td>15.0</td>\n",
       "      <td>6.0</td>\n",
       "      <td>10.0</td>\n",
       "      <td>6.0</td>\n",
       "      <td>1.0</td>\n",
       "      <td>5.0</td>\n",
       "    </tr>\n",
       "    <tr>\n",
       "      <th>1997-Clinton.txt</th>\n",
       "      <td>16.0</td>\n",
       "      <td>6.0</td>\n",
       "      <td>15.0</td>\n",
       "      <td>29.0</td>\n",
       "      <td>10.0</td>\n",
       "      <td>11.0</td>\n",
       "      <td>1.0</td>\n",
       "      <td>15.0</td>\n",
       "      <td>15.0</td>\n",
       "      <td>5.0</td>\n",
       "      <td>1.0</td>\n",
       "      <td>2.0</td>\n",
       "      <td>6.0</td>\n",
       "    </tr>\n",
       "    <tr>\n",
       "      <th>1993-Clinton.txt</th>\n",
       "      <td>14.0</td>\n",
       "      <td>2.0</td>\n",
       "      <td>5.0</td>\n",
       "      <td>9.0</td>\n",
       "      <td>1.0</td>\n",
       "      <td>12.0</td>\n",
       "      <td>3.0</td>\n",
       "      <td>20.0</td>\n",
       "      <td>19.0</td>\n",
       "      <td>3.0</td>\n",
       "      <td>2.0</td>\n",
       "      <td>4.0</td>\n",
       "      <td>10.0</td>\n",
       "    </tr>\n",
       "    <tr>\n",
       "      <th>2017-Trump.txt</th>\n",
       "      <td>15.0</td>\n",
       "      <td>6.0</td>\n",
       "      <td>13.0</td>\n",
       "      <td>6.0</td>\n",
       "      <td>9.0</td>\n",
       "      <td>10.0</td>\n",
       "      <td>5.0</td>\n",
       "      <td>6.0</td>\n",
       "      <td>20.0</td>\n",
       "      <td>6.0</td>\n",
       "      <td>5.0</td>\n",
       "      <td>5.0</td>\n",
       "      <td>5.0</td>\n",
       "    </tr>\n",
       "  </tbody>\n",
       "</table>\n",
       "</div>"
      ],
      "text/plain": [
       "                  american  great  nation   new   one  peopl  presid  world  \\\n",
       "1969-Nixon.txt         4.0    7.0     9.0   8.0   7.0   15.0     3.0   15.0   \n",
       "1997-Clinton.txt      16.0    6.0    15.0  29.0  10.0   11.0     1.0   15.0   \n",
       "1993-Clinton.txt      14.0    2.0     5.0   9.0   1.0   12.0     3.0   20.0   \n",
       "2017-Trump.txt        15.0    6.0    13.0   6.0   9.0   10.0     5.0    6.0   \n",
       "\n",
       "                  america  make  god  across  today  \n",
       "1969-Nixon.txt        6.0  10.0  6.0     1.0    5.0  \n",
       "1997-Clinton.txt     15.0   5.0  1.0     2.0    6.0  \n",
       "1993-Clinton.txt     19.0   3.0  2.0     4.0   10.0  \n",
       "2017-Trump.txt       20.0   6.0  5.0     5.0    5.0  "
      ]
     },
     "execution_count": 19,
     "metadata": {},
     "output_type": "execute_result"
    }
   ],
   "source": [
    "similar_df = df.loc[['1969-Nixon.txt', '1997-Clinton.txt', '1993-Clinton.txt', '2017-Trump.txt'], :]\n",
    "keywords = [w for w in similar_df.columns if (similar_df[w]>0).sum() >= 4 and similar_df.loc['2017-Trump.txt', w] >= 5]\n",
    "similar_df[keywords]"
   ]
  },
  {
   "cell_type": "code",
   "execution_count": 20,
   "metadata": {},
   "outputs": [
    {
     "data": {
      "text/plain": [
       "Index(['1789-Washington.txt', '1809-Madison.txt', '1829-Jackson.txt'], dtype='object')"
      ]
     },
     "execution_count": 20,
     "metadata": {},
     "output_type": "execute_result"
    }
   ],
   "source": [
    "df.index[np.array(dist).argsort()[:3]]"
   ]
  },
  {
   "cell_type": "code",
   "execution_count": 21,
   "metadata": {},
   "outputs": [
    {
     "data": {
      "text/html": [
       "<div>\n",
       "<style scoped>\n",
       "    .dataframe tbody tr th:only-of-type {\n",
       "        vertical-align: middle;\n",
       "    }\n",
       "\n",
       "    .dataframe tbody tr th {\n",
       "        vertical-align: top;\n",
       "    }\n",
       "\n",
       "    .dataframe thead th {\n",
       "        text-align: right;\n",
       "    }\n",
       "</style>\n",
       "<table border=\"1\" class=\"dataframe\">\n",
       "  <thead>\n",
       "    <tr style=\"text-align: right;\">\n",
       "      <th></th>\n",
       "      <th>countri</th>\n",
       "      <th>everi</th>\n",
       "      <th>nation</th>\n",
       "      <th>never</th>\n",
       "      <th>peopl</th>\n",
       "      <th>right</th>\n",
       "    </tr>\n",
       "  </thead>\n",
       "  <tbody>\n",
       "    <tr>\n",
       "      <th>1789-Washington.txt</th>\n",
       "      <td>5.0</td>\n",
       "      <td>9.0</td>\n",
       "      <td>4.0</td>\n",
       "      <td>2.0</td>\n",
       "      <td>4.0</td>\n",
       "      <td>2.0</td>\n",
       "    </tr>\n",
       "    <tr>\n",
       "      <th>1809-Madison.txt</th>\n",
       "      <td>5.0</td>\n",
       "      <td>2.0</td>\n",
       "      <td>10.0</td>\n",
       "      <td>1.0</td>\n",
       "      <td>1.0</td>\n",
       "      <td>5.0</td>\n",
       "    </tr>\n",
       "    <tr>\n",
       "      <th>1829-Jackson.txt</th>\n",
       "      <td>2.0</td>\n",
       "      <td>1.0</td>\n",
       "      <td>6.0</td>\n",
       "      <td>1.0</td>\n",
       "      <td>4.0</td>\n",
       "      <td>4.0</td>\n",
       "    </tr>\n",
       "    <tr>\n",
       "      <th>2017-Trump.txt</th>\n",
       "      <td>12.0</td>\n",
       "      <td>7.0</td>\n",
       "      <td>13.0</td>\n",
       "      <td>6.0</td>\n",
       "      <td>10.0</td>\n",
       "      <td>5.0</td>\n",
       "    </tr>\n",
       "  </tbody>\n",
       "</table>\n",
       "</div>"
      ],
      "text/plain": [
       "                     countri  everi  nation  never  peopl  right\n",
       "1789-Washington.txt      5.0    9.0     4.0    2.0    4.0    2.0\n",
       "1809-Madison.txt         5.0    2.0    10.0    1.0    1.0    5.0\n",
       "1829-Jackson.txt         2.0    1.0     6.0    1.0    4.0    4.0\n",
       "2017-Trump.txt          12.0    7.0    13.0    6.0   10.0    5.0"
      ]
     },
     "execution_count": 21,
     "metadata": {},
     "output_type": "execute_result"
    }
   ],
   "source": [
    "diff_df = df.loc[['1789-Washington.txt', '1809-Madison.txt', '1829-Jackson.txt', '2017-Trump.txt'], :]\n",
    "keywords = [w for w in diff_df.columns if (diff_df[w]>0).sum() >= 4 and diff_df.loc['2017-Trump.txt', w] >= 5]\n",
    "diff_df[keywords]"
   ]
  },
  {
   "cell_type": "markdown",
   "metadata": {},
   "source": [
    "---\n",
    "### 5. Compute the first two principal components of the TF-IDF matrix, and plot each document along each of the PCA components\n",
    "For this question, feel free to use google, stackoverflow, etc to help you compute the PCA (it's pretty easy, just one or two lines). Don't worry too much about the theory for now - we're going to discuss the Principal Component Decomposition later in the semester."
   ]
  },
  {
   "cell_type": "code",
   "execution_count": 22,
   "metadata": {},
   "outputs": [],
   "source": [
    "from sklearn.decomposition import PCA\n",
    "import matplotlib.pyplot as plt"
   ]
  },
  {
   "cell_type": "code",
   "execution_count": 23,
   "metadata": {},
   "outputs": [],
   "source": [
    "# your code to compute the PCA goes here\n",
    "# The result should be X, an array of 2-element arrays\n",
    "pca = PCA(n_components=2)\n",
    "X = pca.fit_transform(newdf)"
   ]
  },
  {
   "cell_type": "code",
   "execution_count": 24,
   "metadata": {},
   "outputs": [
    {
     "data": {
      "text/plain": [
       "58"
      ]
     },
     "execution_count": 24,
     "metadata": {},
     "output_type": "execute_result"
    }
   ],
   "source": [
    "len(X)"
   ]
  },
  {
   "cell_type": "code",
   "execution_count": 25,
   "metadata": {},
   "outputs": [
    {
     "data": {
      "image/png": "[encoded data removed]",
      "text/plain": [
       "<Figure size 432x288 with 1 Axes>"
      ]
     },
     "metadata": {
      "needs_background": "light"
     },
     "output_type": "display_data"
    }
   ],
   "source": [
    "plt.scatter(X[:, 0], X[:, 1], alpha=0.2)\n",
    "plt.axis('equal');\n",
    "for i in range(0,58):\n",
    "    plt.text(X[i,0],X[i,1],inaugural.fileids()[i])"
   ]
  },
  {
   "cell_type": "code",
   "execution_count": null,
   "metadata": {},
   "outputs": [],
   "source": []
  }
 ],
 "metadata": {
  "kernelspec": {
   "display_name": "Python 3",
   "language": "python",
   "name": "python3"
  },
  "language_info": {
   "codemirror_mode": {
    "name": "ipython",
    "version": 3
   },
   "file_extension": ".py",
   "mimetype": "text/x-python",
   "name": "python",
   "nbconvert_exporter": "python",
   "pygments_lexer": "ipython3",
   "version": "3.7.6"
  }
 },
 "nbformat": 4,
 "nbformat_minor": 4
}
